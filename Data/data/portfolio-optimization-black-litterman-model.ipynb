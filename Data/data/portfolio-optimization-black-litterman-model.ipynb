{
 "cells": [
  {
   "cell_type": "code",
   "execution_count": 1,
   "metadata": {
    "_kg_hide-output": true
   },
   "outputs": [
    {
     "name": "stdout",
     "output_type": "stream",
     "text": [
      "Collecting pyfolio\r\n",
      "  Downloading pyfolio-0.9.2.tar.gz (91 kB)\r\n",
      "\u001b[K     |████████████████████████████████| 91 kB 596 kB/s \r\n",
      "\u001b[?25hRequirement already satisfied: ipython>=3.2.3 in /opt/conda/lib/python3.6/site-packages (from pyfolio) (7.12.0)\r\n",
      "Requirement already satisfied: matplotlib>=1.4.0 in /opt/conda/lib/python3.6/site-packages (from pyfolio) (3.0.3)\r\n",
      "Requirement already satisfied: numpy>=1.11.1 in /opt/conda/lib/python3.6/site-packages (from pyfolio) (1.18.1)\r\n",
      "Requirement already satisfied: pandas>=0.18.1 in /opt/conda/lib/python3.6/site-packages (from pyfolio) (0.25.3)\r\n",
      "Requirement already satisfied: pytz>=2014.10 in /opt/conda/lib/python3.6/site-packages (from pyfolio) (2019.3)\r\n",
      "Requirement already satisfied: scipy>=0.14.0 in /opt/conda/lib/python3.6/site-packages (from pyfolio) (1.4.1)\r\n",
      "Requirement already satisfied: scikit-learn>=0.16.1 in /opt/conda/lib/python3.6/site-packages (from pyfolio) (0.22.1)\r\n",
      "Requirement already satisfied: seaborn>=0.7.1 in /opt/conda/lib/python3.6/site-packages (from pyfolio) (0.10.0)\r\n",
      "Collecting empyrical>=0.5.0\r\n",
      "  Downloading empyrical-0.5.3.tar.gz (50 kB)\r\n",
      "\u001b[K     |████████████████████████████████| 50 kB 2.1 MB/s \r\n",
      "\u001b[?25hRequirement already satisfied: backcall in /opt/conda/lib/python3.6/site-packages (from ipython>=3.2.3->pyfolio) (0.1.0)\r\n",
      "Requirement already satisfied: traitlets>=4.2 in /opt/conda/lib/python3.6/site-packages (from ipython>=3.2.3->pyfolio) (4.3.3)\r\n",
      "Requirement already satisfied: prompt-toolkit!=3.0.0,!=3.0.1,<3.1.0,>=2.0.0 in /opt/conda/lib/python3.6/site-packages (from ipython>=3.2.3->pyfolio) (3.0.3)\r\n",
      "Requirement already satisfied: decorator in /opt/conda/lib/python3.6/site-packages (from ipython>=3.2.3->pyfolio) (4.4.1)\r\n",
      "Requirement already satisfied: pickleshare in /opt/conda/lib/python3.6/site-packages (from ipython>=3.2.3->pyfolio) (0.7.5)\r\n",
      "Requirement already satisfied: pygments in /opt/conda/lib/python3.6/site-packages (from ipython>=3.2.3->pyfolio) (2.5.2)\r\n",
      "Requirement already satisfied: pexpect; sys_platform != \"win32\" in /opt/conda/lib/python3.6/site-packages (from ipython>=3.2.3->pyfolio) (4.8.0)\r\n",
      "Requirement already satisfied: setuptools>=18.5 in /opt/conda/lib/python3.6/site-packages (from ipython>=3.2.3->pyfolio) (45.2.0.post20200210)\r\n",
      "Requirement already satisfied: jedi>=0.10 in /opt/conda/lib/python3.6/site-packages (from ipython>=3.2.3->pyfolio) (0.16.0)\r\n",
      "Requirement already satisfied: cycler>=0.10 in /opt/conda/lib/python3.6/site-packages (from matplotlib>=1.4.0->pyfolio) (0.10.0)\r\n",
      "Requirement already satisfied: kiwisolver>=1.0.1 in /opt/conda/lib/python3.6/site-packages (from matplotlib>=1.4.0->pyfolio) (1.1.0)\r\n",
      "Requirement already satisfied: pyparsing!=2.0.4,!=2.1.2,!=2.1.6,>=2.0.1 in /opt/conda/lib/python3.6/site-packages (from matplotlib>=1.4.0->pyfolio) (2.4.6)\r\n",
      "Requirement already satisfied: python-dateutil>=2.1 in /opt/conda/lib/python3.6/site-packages (from matplotlib>=1.4.0->pyfolio) (2.8.1)\r\n",
      "Requirement already satisfied: joblib>=0.11 in /opt/conda/lib/python3.6/site-packages (from scikit-learn>=0.16.1->pyfolio) (0.14.1)\r\n",
      "Requirement already satisfied: pandas-datareader>=0.2 in /opt/conda/lib/python3.6/site-packages (from empyrical>=0.5.0->pyfolio) (0.8.1)\r\n",
      "Requirement already satisfied: ipython-genutils in /opt/conda/lib/python3.6/site-packages (from traitlets>=4.2->ipython>=3.2.3->pyfolio) (0.2.0)\r\n",
      "Requirement already satisfied: six in /opt/conda/lib/python3.6/site-packages (from traitlets>=4.2->ipython>=3.2.3->pyfolio) (1.14.0)\r\n",
      "Requirement already satisfied: wcwidth in /opt/conda/lib/python3.6/site-packages (from prompt-toolkit!=3.0.0,!=3.0.1,<3.1.0,>=2.0.0->ipython>=3.2.3->pyfolio) (0.1.8)\r\n",
      "Requirement already satisfied: ptyprocess>=0.5 in /opt/conda/lib/python3.6/site-packages (from pexpect; sys_platform != \"win32\"->ipython>=3.2.3->pyfolio) (0.6.0)\r\n",
      "Requirement already satisfied: parso>=0.5.2 in /opt/conda/lib/python3.6/site-packages (from jedi>=0.10->ipython>=3.2.3->pyfolio) (0.6.1)\r\n",
      "Requirement already satisfied: requests>=2.3.0 in /opt/conda/lib/python3.6/site-packages (from pandas-datareader>=0.2->empyrical>=0.5.0->pyfolio) (2.22.0)\r\n",
      "Requirement already satisfied: lxml in /opt/conda/lib/python3.6/site-packages (from pandas-datareader>=0.2->empyrical>=0.5.0->pyfolio) (4.5.0)\r\n",
      "Requirement already satisfied: chardet<3.1.0,>=3.0.2 in /opt/conda/lib/python3.6/site-packages (from requests>=2.3.0->pandas-datareader>=0.2->empyrical>=0.5.0->pyfolio) (3.0.4)\r\n",
      "Requirement already satisfied: certifi>=2017.4.17 in /opt/conda/lib/python3.6/site-packages (from requests>=2.3.0->pandas-datareader>=0.2->empyrical>=0.5.0->pyfolio) (2019.11.28)\r\n",
      "Requirement already satisfied: urllib3!=1.25.0,!=1.25.1,<1.26,>=1.21.1 in /opt/conda/lib/python3.6/site-packages (from requests>=2.3.0->pandas-datareader>=0.2->empyrical>=0.5.0->pyfolio) (1.25.8)\r\n",
      "Requirement already satisfied: idna<2.9,>=2.5 in /opt/conda/lib/python3.6/site-packages (from requests>=2.3.0->pandas-datareader>=0.2->empyrical>=0.5.0->pyfolio) (2.8)\r\n",
      "Building wheels for collected packages: pyfolio, empyrical\r\n",
      "  Building wheel for pyfolio (setup.py) ... \u001b[?25l-\b \b\\\b \b|\b \bdone\r\n",
      "\u001b[?25h  Created wheel for pyfolio: filename=pyfolio-0.9.2-py3-none-any.whl size=88667 sha256=312f8b706b5899e18bc70e36e1bdc536c90a9fb08946e68374beebd2214b671e\r\n",
      "  Stored in directory: /root/.cache/pip/wheels/2a/72/98/e93e1a091c5c2255ee49b299d4b8e955bab09fd3b9695f2218\r\n",
      "  Building wheel for empyrical (setup.py) ... \u001b[?25l-\b \b\\\b \bdone\r\n",
      "\u001b[?25h  Created wheel for empyrical: filename=empyrical-0.5.3-py3-none-any.whl size=37090 sha256=294fe4503f40d6306683769f01e7de676d8f482b3c59fb4bf42a740983ec71f8\r\n",
      "  Stored in directory: /root/.cache/pip/wheels/9e/5a/69/db414a9fb2abedee8b26f6efd5d0715e68ab0101caaa5f1a9c\r\n",
      "Successfully built pyfolio empyrical\r\n",
      "Installing collected packages: empyrical, pyfolio\r\n",
      "Successfully installed empyrical-0.5.3 pyfolio-0.9.2\r\n",
      "Collecting PyPortfolioOpt\r\n",
      "  Downloading PyPortfolioOpt-1.2.5-py3-none-any.whl (48 kB)\r\n",
      "\u001b[K     |████████████████████████████████| 48 kB 359 kB/s \r\n",
      "\u001b[?25hRequirement already satisfied: cvxpy<2.0,>=1.0 in /opt/conda/lib/python3.6/site-packages (from PyPortfolioOpt) (1.0.25)\r\n",
      "Requirement already satisfied: pandas>=0.19 in /opt/conda/lib/python3.6/site-packages (from PyPortfolioOpt) (0.25.3)\r\n",
      "Requirement already satisfied: numpy<2.0,>=1.12 in /opt/conda/lib/python3.6/site-packages (from PyPortfolioOpt) (1.18.1)\r\n",
      "Requirement already satisfied: scipy<2.0,>=1.3 in /opt/conda/lib/python3.6/site-packages (from PyPortfolioOpt) (1.4.1)\r\n",
      "Collecting cvxopt<2.0,>=1.2\r\n",
      "  Downloading cvxopt-1.2.5-cp36-cp36m-manylinux1_x86_64.whl (11.6 MB)\r\n",
      "\u001b[K     |████████████████████████████████| 11.6 MB 6.6 MB/s \r\n",
      "\u001b[?25hRequirement already satisfied: ecos>=2 in /opt/conda/lib/python3.6/site-packages (from cvxpy<2.0,>=1.0->PyPortfolioOpt) (2.0.7.post1)\r\n",
      "Requirement already satisfied: osqp>=0.4.1 in /opt/conda/lib/python3.6/site-packages (from cvxpy<2.0,>=1.0->PyPortfolioOpt) (0.6.1)\r\n",
      "Requirement already satisfied: scs>=1.1.3 in /opt/conda/lib/python3.6/site-packages (from cvxpy<2.0,>=1.0->PyPortfolioOpt) (2.1.1.post2)\r\n",
      "Requirement already satisfied: multiprocess in /opt/conda/lib/python3.6/site-packages (from cvxpy<2.0,>=1.0->PyPortfolioOpt) (0.70.9)\r\n",
      "Requirement already satisfied: six in /opt/conda/lib/python3.6/site-packages (from cvxpy<2.0,>=1.0->PyPortfolioOpt) (1.14.0)\r\n",
      "Requirement already satisfied: pytz>=2017.2 in /opt/conda/lib/python3.6/site-packages (from pandas>=0.19->PyPortfolioOpt) (2019.3)\r\n",
      "Requirement already satisfied: python-dateutil>=2.6.1 in /opt/conda/lib/python3.6/site-packages (from pandas>=0.19->PyPortfolioOpt) (2.8.1)\r\n",
      "Requirement already satisfied: future in /opt/conda/lib/python3.6/site-packages (from osqp>=0.4.1->cvxpy<2.0,>=1.0->PyPortfolioOpt) (0.18.2)\r\n",
      "Requirement already satisfied: dill>=0.3.1 in /opt/conda/lib/python3.6/site-packages (from multiprocess->cvxpy<2.0,>=1.0->PyPortfolioOpt) (0.3.1.1)\r\n",
      "Installing collected packages: cvxopt, PyPortfolioOpt\r\n",
      "Successfully installed PyPortfolioOpt-1.2.5 cvxopt-1.2.5\r\n"
     ]
    }
   ],
   "source": [
    "! pip install pyfolio\n",
    "! pip install PyPortfolioOpt"
   ]
  },
  {
   "cell_type": "code",
   "execution_count": 2,
   "metadata": {},
   "outputs": [],
   "source": [
    "import numpy as np\n",
    "import pandas as pd\n",
    "from matplotlib import pyplot as plt\n",
    "import seaborn as sns\n",
    "from pypfopt import risk_models as RiskModels\n",
    "import datetime\n",
    "from pypfopt import black_litterman\n",
    "from pypfopt.black_litterman import BlackLittermanModel\n",
    "from pypfopt.efficient_frontier import EfficientFrontier\n",
    "%matplotlib inline\n",
    "# portfolio optimizationのライブラリを使用\n",
    "# https://pyportfolioopt.readthedocs.io/en/latest/"
   ]
  },
  {
   "cell_type": "markdown",
   "metadata": {},
   "source": [
    "## read historical Data\n",
    "## データの読み込み\n",
    "ここでは、その日までにわかっているデータのみを読み込む"
   ]
  },
  {
   "cell_type": "code",
   "execution_count": 3,
   "metadata": {},
   "outputs": [],
   "source": [
    "prices = pd.read_csv(\"/kaggle/input/group3data/his_data.csv\", names=(\"Date\", \"JPY\", \"NZD\", \"AUD\", \"EUR\", \"GBP\", \"HKD\", \"BRL\", \"DKK\", \"INR\", \"CAD\", \"CHF\")).drop(0)\n",
    "prices['Date'] = prices['Date'].astype('str')\n",
    "prices['Date'] = prices[\"Date\"].str[:4] + \"-\" + prices[\"Date\"].str[4:6] + \"-\" + prices[\"Date\"].str[6:8]\n",
    "prices['Date'] = pd.to_datetime(prices['Date'])\n",
    "prices = prices.set_index('Date')\n",
    "currencies = [\"JPY\", \"NZD\", \"AUD\", \"EUR\", \"GBP\", \"HKD\", \"BRL\", \"DKK\", \"INR\", \"CAD\", \"CHF\"]\n",
    "for currency in currencies:\n",
    "    prices[currency] = prices[currency].astype(float)"
   ]
  },
  {
   "cell_type": "code",
   "execution_count": 4,
   "metadata": {},
   "outputs": [],
   "source": [
    "shrunk_covariance = RiskModels.CovarianceShrinkage(prices)\n",
    "shrunk_covariance = shrunk_covariance.shrunk_covariance()"
   ]
  },
  {
   "cell_type": "markdown",
   "metadata": {},
   "source": [
    "## reflect my forecasting to Portfolio\n",
    "## 見通しの反映\n",
    "どこ(Pの列で指定)がどれくらいの確率(Omega)で何％(Q)変化するかを予測する必要がある。"
   ]
  },
  {
   "cell_type": "code",
   "execution_count": 5,
   "metadata": {
    "scrolled": true
   },
   "outputs": [
    {
     "name": "stderr",
     "output_type": "stream",
     "text": [
      "/opt/conda/lib/python3.6/site-packages/pypfopt/black_litterman.py:252: UserWarning: Running Black-Litterman with no prior.\n",
      "  warnings.warn(\"Running Black-Litterman with no prior.\")\n"
     ]
    }
   ],
   "source": [
    "weight_set = []\n",
    "P = np.array([\n",
    "        [-0.3,-0.1,-0.2,-0.2,-0.1,-0.1,1, 0, 0, 0, 0],# BRL up 3%\n",
    "        [1,0,0,0,0,0,0,0,0,0,0]]) # JPY up 1%\n",
    "Q = np.array([[0.0003],[0.001]]) # 2-vector\n",
    "delta = black_litterman.market_implied_risk_aversion(prices[\"JPY\"])\n",
    "Omega = BlackLittermanModel.default_omega(cov_matrix = shrunk_covariance, P = P, tau = 0.05)\n",
    "bl = BlackLittermanModel(shrunk_covariance, P = P, Q = Q, omega = Omega)\n",
    "rets = bl.bl_returns()\n",
    "bl.bl_weights(delta)\n",
    "weight = bl.clean_weights()"
   ]
  },
  {
   "cell_type": "code",
   "execution_count": 6,
   "metadata": {},
   "outputs": [
    {
     "data": {
      "text/plain": [
       "<matplotlib.axes._subplots.AxesSubplot at 0x7fa41cb97048>"
      ]
     },
     "execution_count": 6,
     "metadata": {},
     "output_type": "execute_result"
    },
    {
     "data": {
      "image/png": "[encoded data removed]",
      "text/plain": [
       "<Figure size 432x288 with 1 Axes>"
      ]
     },
     "metadata": {
      "needs_background": "light"
     },
     "output_type": "display_data"
    }
   ],
   "source": [
    "df = pd.DataFrame(weight,\n",
    "                  columns=currencies,\n",
    "                  index=['Equilibrium Weights'])\n",
    "df.T.plot(kind='bar')"
   ]
  },
  {
   "cell_type": "markdown",
   "metadata": {},
   "source": [
    "↑ this result means my forecasting is reflected in portfolio  \n",
    "↑日本が1%上がるとしていたり、BRLが他よりも3%上がるという予測を反映している結果になっている。"
   ]
  }
 ],
 "metadata": {
  "kernelspec": {
   "display_name": "Python 3",
   "language": "python",
   "name": "python3"
  },
  "language_info": {
   "codemirror_mode": {
    "name": "ipython",
    "version": 3
   },
   "file_extension": ".py",
   "mimetype": "text/x-python",
   "name": "python",
   "nbconvert_exporter": "python",
   "pygments_lexer": "ipython3",
   "version": "3.6.6"
  }
 },
 "nbformat": 4,
 "nbformat_minor": 4
}
